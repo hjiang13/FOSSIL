{
  "nbformat": 4,
  "nbformat_minor": 0,
  "metadata": {
    "colab": {
      "provenance": [],
      "authorship_tag": "ABX9TyMbTbyQkc5dwwAkevSqM3Tl",
      "include_colab_link": true
    },
    "kernelspec": {
      "name": "python3",
      "display_name": "Python 3"
    },
    "language_info": {
      "name": "python"
    }
  },
  "cells": [
    {
      "cell_type": "markdown",
      "metadata": {
        "id": "view-in-github",
        "colab_type": "text"
      },
      "source": [
        "<a href=\"https://colab.research.google.com/github/hjiang13/FOSSIL/blob/main/fossil.ipynb\" target=\"_parent\"><img src=\"https://colab.research.google.com/assets/colab-badge.svg\" alt=\"Open In Colab\"/></a>"
      ]
    },
    {
      "cell_type": "code",
      "execution_count": null,
      "metadata": {
        "id": "cp3hW3l_MdWF"
      },
      "outputs": [],
      "source": [
        "from pycparser import c_parser, c_ast\n",
        "from graphviz import Digraph"
      ]
    },
    {
      "cell_type": "code",
      "source": [
        "class SemanticAnalyzer(c_ast.NodeVisitor):\n",
        "    def __init__(self):\n",
        "        self.functions = {}\n",
        "        self.current_function = None\n",
        "        self.variables = set()\n",
        "        self.control_flow_edges = []\n",
        "        self.data_flow_edges = []\n",
        "        self.callee_caller_edges = []\n",
        "        self.previous_node = None\n",
        "        self.node_counter = 0\n",
        "\n",
        "    def generate_node_id(self):\n",
        "        self.node_counter += 1\n",
        "        return f'node_{self.node_counter}'\n",
        "\n",
        "    def visit_FuncDef(self, node):\n",
        "        func_name = node.decl.name\n",
        "        func_node_id = self.generate_node_id()\n",
        "        self.functions[func_name] = {\n",
        "            'node_id': func_node_id,\n",
        "            'variables': set(),\n",
        "            'calls': set(),\n",
        "            'control_flow': [],\n",
        "            'children': []\n",
        "        }\n",
        "        self.current_function = func_name\n",
        "        self.previous_node = func_node_id\n",
        "        self.generic_visit(node)\n",
        "        self.current_function = None\n",
        "        self.previous_node = None\n",
        "\n",
        "    def visit_Decl(self, node):\n",
        "        if isinstance(node.type, c_ast.TypeDecl):\n",
        "            var_name = node.name\n",
        "            self.variables.add(var_name)\n",
        "            if self.current_function:\n",
        "                self.functions[self.current_function]['variables'].add(var_name)\n",
        "                var_node_id = self.generate_node_id()\n",
        "                self.data_flow_edges.append((self.previous_node, var_node_id))\n",
        "                self.functions[self.current_function]['children'].append((var_name, var_node_id))\n",
        "        self.generic_visit(node)\n",
        "\n",
        "    def visit_If(self, node):\n",
        "        if_node_id = self.generate_node_id()\n",
        "        if_node_label = f\"If (line {node.coord.line})\"\n",
        "        self.functions[self.current_function]['control_flow'].append(if_node_label)\n",
        "        self.control_flow_edges.append((self.previous_node, if_node_id))\n",
        "        self.functions[self.current_function]['children'].append((if_node_label, if_node_id))\n",
        "        self.previous_node = if_node_id\n",
        "        self.generic_visit(node)\n",
        "        self.previous_node = if_node_id\n",
        "\n",
        "    def visit_For(self, node):\n",
        "        for_node_id = self.generate_node_id()\n",
        "        for_node_label = f\"For (line {node.coord.line})\"\n",
        "        self.functions[self.current_function]['control_flow'].append(for_node_label)\n",
        "        self.control_flow_edges.append((self.previous_node, for_node_id))\n",
        "        self.functions[self.current_function]['children'].append((for_node_label, for_node_id))\n",
        "        self.previous_node = for_node_id\n",
        "        self.generic_visit(node)\n",
        "        self.previous_node = for_node_id\n",
        "\n",
        "    def visit_While(self, node):\n",
        "        while_node_id = self.generate_node_id()\n",
        "        while_node_label = f\"While (line {node.coord.line})\"\n",
        "        self.functions[self.current_function]['control_flow'].append(while_node_label)\n",
        "        self.control_flow_edges.append((self.previous_node, while_node_id))\n",
        "        self.functions[self.current_function]['children'].append((while_node_label, while_node_id))\n",
        "        self.previous_node = while_node_id\n",
        "        self.generic_visit(node)\n",
        "        self.previous_node = while_node_id\n",
        "\n",
        "    def visit_FuncCall(self, node):\n",
        "        if self.current_function:\n",
        "            func_name = node.name.name\n",
        "            call_node_id = self.generate_node_id()\n",
        "            call_node_label = f\"Call to {func_name} (line {node.coord.line})\"\n",
        "            self.functions[self.current_function]['calls'].add(func_name)\n",
        "            self.callee_caller_edges.append((self.previous_node, call_node_id))\n",
        "            self.control_flow_edges.append((self.previous_node, call_node_id))\n",
        "            self.functions[self.current_function]['children'].append((call_node_label, call_node_id))\n",
        "            self.previous_node = call_node_id\n",
        "        self.generic_visit(node)\n",
        "\n"
      ],
      "metadata": {
        "id": "0tU2ThguMop1"
      },
      "execution_count": null,
      "outputs": []
    },
    {
      "cell_type": "code",
      "source": [
        "def parse_c_code(code):\n",
        "    parser = c_parser.CParser()\n",
        "    return parser.parse(code)\n",
        "\n",
        "def visualize_skeleton(semantic_info):\n",
        "    dot = Digraph(comment='Foldable Semantic Skeleton')\n",
        "\n",
        "    for func, details in semantic_info['functions'].items():\n",
        "        with dot.subgraph(name=f'cluster_{func}') as sub:\n",
        "            sub.node(details['node_id'], func, shape='box')\n",
        "            for var, var_node_id in details['children']:\n",
        "                sub.node(var_node_id, var, shape='ellipse')\n",
        "                sub.edge(details['node_id'], var_node_id, label='declares')\n",
        "            for control_flow, control_flow_id in details['children']:\n",
        "                sub.node(control_flow_id, control_flow, shape='diamond' if 'If' in control_flow else 'hexagon')\n",
        "                sub.edge(details['node_id'], control_flow_id, label='contains')\n",
        "\n",
        "    for start, end in semantic_info['control_flow_edges']:\n",
        "        dot.edge(start, end, label='flows to')\n",
        "\n",
        "    for caller, callee in semantic_info['callee_caller_edges']:\n",
        "        dot.edge(caller, callee, label='calls')\n",
        "\n",
        "    return dot\n"
      ],
      "metadata": {
        "id": "i4kjuGCnMsgS"
      },
      "execution_count": null,
      "outputs": []
    },
    {
      "cell_type": "code",
      "source": [
        "def main():\n",
        "    code = \"\"\"\n",
        "\n",
        "    void foo() {\n",
        "        printf(\"Hello from foo\\\\n\");\n",
        "    }\n",
        "\n",
        "    int main() {\n",
        "        int x = 10;\n",
        "        if (x > 0) {\n",
        "            printf(\"%d\\\\n\", x);\n",
        "        } else {\n",
        "            printf(\"%d\\\\n\", -x);\n",
        "        }\n",
        "        for (int i = 0; i < x; i++) {\n",
        "            foo();\n",
        "        }\n",
        "        return 0;\n",
        "    }\n",
        "    \"\"\"\n",
        "\n",
        "    ast = parse_c_code(code)\n",
        "    analyzer = SemanticAnalyzer()\n",
        "    analyzer.visit(ast)\n",
        "\n",
        "    semantic_info = {\n",
        "        'functions': analyzer.functions,\n",
        "        'variables': list(analyzer.variables),\n",
        "        'control_flow_edges': analyzer.control_flow_edges,\n",
        "        'data_flow_edges': analyzer.data_flow_edges,\n",
        "        'callee_caller_edges': analyzer.callee_caller_edges\n",
        "    }\n",
        "\n",
        "    dot = visualize_skeleton(semantic_info)\n",
        "    dot.save('enhanced_semantic_skeleton.dot')\n",
        "\n",
        "if __name__ == \"__main__\":\n",
        "    main()"
      ],
      "metadata": {
        "id": "8oYCaNIwRW_d"
      },
      "execution_count": null,
      "outputs": []
    },
    {
      "cell_type": "code",
      "source": [
        "!dot -Tpng enhanced_semantic_skeleton.dot -o semantic_skeleton.png"
      ],
      "metadata": {
        "id": "92MF3FmtOEwA"
      },
      "execution_count": null,
      "outputs": []
    },
    {
      "cell_type": "code",
      "source": [
        "!ls"
      ],
      "metadata": {
        "colab": {
          "base_uri": "https://localhost:8080/"
        },
        "id": "TsR90ULBOmE5",
        "outputId": "7ccd39f6-e680-49d2-c3f9-183b19636b19"
      },
      "execution_count": null,
      "outputs": [
        {
          "output_type": "stream",
          "name": "stdout",
          "text": [
            "sample_data\t       semantic_skeleton.gv\t semantic_skeleton.png\n",
            "semantic_skeleton.dot  semantic_skeleton.gv.pdf\n"
          ]
        }
      ]
    },
    {
      "cell_type": "code",
      "source": [],
      "metadata": {
        "colab": {
          "base_uri": "https://localhost:8080/",
          "height": 530
        },
        "id": "fCzKrdbcOHQj",
        "outputId": "598aca72-cf2b-494a-f0ba-22b138df2332"
      },
      "execution_count": null,
      "outputs": [
        {
          "output_type": "error",
          "ename": "PDFInfoNotInstalledError",
          "evalue": "Unable to get page count. Is poppler installed and in PATH?",
          "traceback": [
            "\u001b[0;31m---------------------------------------------------------------------------\u001b[0m",
            "\u001b[0;31mFileNotFoundError\u001b[0m                         Traceback (most recent call last)",
            "\u001b[0;32m/usr/local/lib/python3.10/dist-packages/pdf2image/pdf2image.py\u001b[0m in \u001b[0;36mpdfinfo_from_path\u001b[0;34m(pdf_path, userpw, ownerpw, poppler_path, rawdates, timeout, first_page, last_page)\u001b[0m\n\u001b[1;32m    580\u001b[0m             \u001b[0menv\u001b[0m\u001b[0;34m[\u001b[0m\u001b[0;34m\"LD_LIBRARY_PATH\"\u001b[0m\u001b[0;34m]\u001b[0m \u001b[0;34m=\u001b[0m \u001b[0mpoppler_path\u001b[0m \u001b[0;34m+\u001b[0m \u001b[0;34m\":\"\u001b[0m \u001b[0;34m+\u001b[0m \u001b[0menv\u001b[0m\u001b[0;34m.\u001b[0m\u001b[0mget\u001b[0m\u001b[0;34m(\u001b[0m\u001b[0;34m\"LD_LIBRARY_PATH\"\u001b[0m\u001b[0;34m,\u001b[0m \u001b[0;34m\"\"\u001b[0m\u001b[0;34m)\u001b[0m\u001b[0;34m\u001b[0m\u001b[0;34m\u001b[0m\u001b[0m\n\u001b[0;32m--> 581\u001b[0;31m         \u001b[0mproc\u001b[0m \u001b[0;34m=\u001b[0m \u001b[0mPopen\u001b[0m\u001b[0;34m(\u001b[0m\u001b[0mcommand\u001b[0m\u001b[0;34m,\u001b[0m \u001b[0menv\u001b[0m\u001b[0;34m=\u001b[0m\u001b[0menv\u001b[0m\u001b[0;34m,\u001b[0m \u001b[0mstdout\u001b[0m\u001b[0;34m=\u001b[0m\u001b[0mPIPE\u001b[0m\u001b[0;34m,\u001b[0m \u001b[0mstderr\u001b[0m\u001b[0;34m=\u001b[0m\u001b[0mPIPE\u001b[0m\u001b[0;34m)\u001b[0m\u001b[0;34m\u001b[0m\u001b[0;34m\u001b[0m\u001b[0m\n\u001b[0m\u001b[1;32m    582\u001b[0m \u001b[0;34m\u001b[0m\u001b[0m\n",
            "\u001b[0;32m/usr/lib/python3.10/subprocess.py\u001b[0m in \u001b[0;36m__init__\u001b[0;34m(self, args, bufsize, executable, stdin, stdout, stderr, preexec_fn, close_fds, shell, cwd, env, universal_newlines, startupinfo, creationflags, restore_signals, start_new_session, pass_fds, user, group, extra_groups, encoding, errors, text, umask, pipesize)\u001b[0m\n\u001b[1;32m    970\u001b[0m \u001b[0;34m\u001b[0m\u001b[0m\n\u001b[0;32m--> 971\u001b[0;31m             self._execute_child(args, executable, preexec_fn, close_fds,\n\u001b[0m\u001b[1;32m    972\u001b[0m                                 \u001b[0mpass_fds\u001b[0m\u001b[0;34m,\u001b[0m \u001b[0mcwd\u001b[0m\u001b[0;34m,\u001b[0m \u001b[0menv\u001b[0m\u001b[0;34m,\u001b[0m\u001b[0;34m\u001b[0m\u001b[0;34m\u001b[0m\u001b[0m\n",
            "\u001b[0;32m/usr/lib/python3.10/subprocess.py\u001b[0m in \u001b[0;36m_execute_child\u001b[0;34m(self, args, executable, preexec_fn, close_fds, pass_fds, cwd, env, startupinfo, creationflags, shell, p2cread, p2cwrite, c2pread, c2pwrite, errread, errwrite, restore_signals, gid, gids, uid, umask, start_new_session)\u001b[0m\n\u001b[1;32m   1862\u001b[0m                         \u001b[0merr_msg\u001b[0m \u001b[0;34m=\u001b[0m \u001b[0mos\u001b[0m\u001b[0;34m.\u001b[0m\u001b[0mstrerror\u001b[0m\u001b[0;34m(\u001b[0m\u001b[0merrno_num\u001b[0m\u001b[0;34m)\u001b[0m\u001b[0;34m\u001b[0m\u001b[0;34m\u001b[0m\u001b[0m\n\u001b[0;32m-> 1863\u001b[0;31m                     \u001b[0;32mraise\u001b[0m \u001b[0mchild_exception_type\u001b[0m\u001b[0;34m(\u001b[0m\u001b[0merrno_num\u001b[0m\u001b[0;34m,\u001b[0m \u001b[0merr_msg\u001b[0m\u001b[0;34m,\u001b[0m \u001b[0merr_filename\u001b[0m\u001b[0;34m)\u001b[0m\u001b[0;34m\u001b[0m\u001b[0;34m\u001b[0m\u001b[0m\n\u001b[0m\u001b[1;32m   1864\u001b[0m                 \u001b[0;32mraise\u001b[0m \u001b[0mchild_exception_type\u001b[0m\u001b[0;34m(\u001b[0m\u001b[0merr_msg\u001b[0m\u001b[0;34m)\u001b[0m\u001b[0;34m\u001b[0m\u001b[0;34m\u001b[0m\u001b[0m\n",
            "\u001b[0;31mFileNotFoundError\u001b[0m: [Errno 2] No such file or directory: 'pdfinfo'",
            "\nDuring handling of the above exception, another exception occurred:\n",
            "\u001b[0;31mPDFInfoNotInstalledError\u001b[0m                  Traceback (most recent call last)",
            "\u001b[0;32m<ipython-input-22-47819871b349>\u001b[0m in \u001b[0;36m<cell line: 3>\u001b[0;34m()\u001b[0m\n\u001b[1;32m      1\u001b[0m \u001b[0;32mfrom\u001b[0m \u001b[0mpdf2image\u001b[0m \u001b[0;32mimport\u001b[0m \u001b[0mconvert_from_path\u001b[0m\u001b[0;34m\u001b[0m\u001b[0;34m\u001b[0m\u001b[0m\n\u001b[1;32m      2\u001b[0m \u001b[0;34m\u001b[0m\u001b[0m\n\u001b[0;32m----> 3\u001b[0;31m \u001b[0mimages\u001b[0m \u001b[0;34m=\u001b[0m \u001b[0mconvert_from_path\u001b[0m\u001b[0;34m(\u001b[0m\u001b[0;34m\"./semantic_skeleton.gv.pdf\"\u001b[0m\u001b[0;34m)\u001b[0m\u001b[0;34m\u001b[0m\u001b[0;34m\u001b[0m\u001b[0m\n\u001b[0m\u001b[1;32m      4\u001b[0m \u001b[0mimages\u001b[0m\u001b[0;34m[\u001b[0m\u001b[0;36m0\u001b[0m\u001b[0;34m]\u001b[0m\u001b[0;34m\u001b[0m\u001b[0;34m\u001b[0m\u001b[0m\n",
            "\u001b[0;32m/usr/local/lib/python3.10/dist-packages/pdf2image/pdf2image.py\u001b[0m in \u001b[0;36mconvert_from_path\u001b[0;34m(pdf_path, dpi, output_folder, first_page, last_page, fmt, jpegopt, thread_count, userpw, ownerpw, use_cropbox, strict, transparent, single_file, output_file, poppler_path, grayscale, size, paths_only, use_pdftocairo, timeout, hide_annotations)\u001b[0m\n\u001b[1;32m    125\u001b[0m         \u001b[0mpoppler_path\u001b[0m \u001b[0;34m=\u001b[0m \u001b[0mpoppler_path\u001b[0m\u001b[0;34m.\u001b[0m\u001b[0mas_posix\u001b[0m\u001b[0;34m(\u001b[0m\u001b[0;34m)\u001b[0m\u001b[0;34m\u001b[0m\u001b[0;34m\u001b[0m\u001b[0m\n\u001b[1;32m    126\u001b[0m \u001b[0;34m\u001b[0m\u001b[0m\n\u001b[0;32m--> 127\u001b[0;31m     page_count = pdfinfo_from_path(\n\u001b[0m\u001b[1;32m    128\u001b[0m         \u001b[0mpdf_path\u001b[0m\u001b[0;34m,\u001b[0m \u001b[0muserpw\u001b[0m\u001b[0;34m,\u001b[0m \u001b[0mownerpw\u001b[0m\u001b[0;34m,\u001b[0m \u001b[0mpoppler_path\u001b[0m\u001b[0;34m=\u001b[0m\u001b[0mpoppler_path\u001b[0m\u001b[0;34m\u001b[0m\u001b[0;34m\u001b[0m\u001b[0m\n\u001b[1;32m    129\u001b[0m     )[\"Pages\"]\n",
            "\u001b[0;32m/usr/local/lib/python3.10/dist-packages/pdf2image/pdf2image.py\u001b[0m in \u001b[0;36mpdfinfo_from_path\u001b[0;34m(pdf_path, userpw, ownerpw, poppler_path, rawdates, timeout, first_page, last_page)\u001b[0m\n\u001b[1;32m    605\u001b[0m \u001b[0;34m\u001b[0m\u001b[0m\n\u001b[1;32m    606\u001b[0m     \u001b[0;32mexcept\u001b[0m \u001b[0mOSError\u001b[0m\u001b[0;34m:\u001b[0m\u001b[0;34m\u001b[0m\u001b[0;34m\u001b[0m\u001b[0m\n\u001b[0;32m--> 607\u001b[0;31m         raise PDFInfoNotInstalledError(\n\u001b[0m\u001b[1;32m    608\u001b[0m             \u001b[0;34m\"Unable to get page count. Is poppler installed and in PATH?\"\u001b[0m\u001b[0;34m\u001b[0m\u001b[0;34m\u001b[0m\u001b[0m\n\u001b[1;32m    609\u001b[0m         )\n",
            "\u001b[0;31mPDFInfoNotInstalledError\u001b[0m: Unable to get page count. Is poppler installed and in PATH?"
          ]
        }
      ]
    }
  ]
}